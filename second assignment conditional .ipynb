{
 "cells": [
  {
   "cell_type": "markdown",
   "id": "329e6e21-f259-4f1f-a86e-99246833a8ea",
   "metadata": {},
   "source": [
    "## SECOND ASSIGNMENT (CONDITIONS"
   ]
  },
  {
   "cell_type": "markdown",
   "id": "88c89045-9531-4823-bb42-8ef6fdfdf651",
   "metadata": {},
   "source": [
    "Q1: write a program that takes a number as an input and print whether its postive, nagative or zero"
   ]
  },
  {
   "cell_type": "code",
   "execution_count": 4,
   "id": "fb256ffc-d138-4a65-b4b8-c235de287f82",
   "metadata": {},
   "outputs": [
    {
     "name": "stdin",
     "output_type": "stream",
     "text": [
      "Enter a number 0\n"
     ]
    },
    {
     "name": "stdout",
     "output_type": "stream",
     "text": [
      "number is zero\n"
     ]
    }
   ],
   "source": [
    "number = float(input(\"Enter a number\"))\n",
    "if number > 0:\n",
    "    print(f\"{number} is postive\")\n",
    "elif number < 0:\n",
    "    print(f\"{number} is negative\")\n",
    "else:\n",
    "    print(\"number is zero\")\n"
   ]
  },
  {
   "cell_type": "markdown",
   "id": "cb652516-400b-4dcf-a348-66ad24663083",
   "metadata": {},
   "source": [
    "Q2: Write a program hat determine if a year entered by the user is a leap year \n",
    "(hint: a leap year is divisible by 4, except for century year, which is divisible by 400"
   ]
  },
  {
   "cell_type": "code",
   "execution_count": 14,
   "id": "ff477e1b-4689-4548-a642-0f5635b6452b",
   "metadata": {},
   "outputs": [
    {
     "name": "stdin",
     "output_type": "stream",
     "text": [
      "Enter the year 2024\n"
     ]
    },
    {
     "name": "stdout",
     "output_type": "stream",
     "text": [
      "2024 is a leap year (not a  century year)\n"
     ]
    }
   ],
   "source": [
    "year= int(input(\"Enter the year\"))\n",
    "if year % 4==0 and year % 100!=0:\n",
    "    print(f\"{year} is a leap year (not a  century year)\")\n",
    "elif year %400==0:\n",
    "    print(f\"{year} is a leap year (century year)\")\n",
    "else: \n",
    "    print(f\"{year} not a leap year\")"
   ]
  },
  {
   "cell_type": "code",
   "execution_count": null,
   "id": "9465be07-78fa-4317-ae52-9404dbaa29b3",
   "metadata": {},
   "outputs": [],
   "source": [
    "Q3: Create a program that compares two numbers and print whether the first number is greater than or equal to the second number "
   ]
  },
  {
   "cell_type": "code",
   "execution_count": 15,
   "id": "c83e10dc-0421-49e3-bc69-cda7033441f1",
   "metadata": {},
   "outputs": [
    {
     "name": "stdin",
     "output_type": "stream",
     "text": [
      "Enter first number 44\n",
      "Enter second number 23\n"
     ]
    },
    {
     "name": "stdout",
     "output_type": "stream",
     "text": [
      "44.0 is greater than or equal 23.0\n"
     ]
    }
   ],
   "source": [
    "a = float(input(\"Enter first number\"))\n",
    "b = float(input(\"Enter second number\"))\n",
    "\n",
    "if a >= b:\n",
    "    print(f\"{a} is greater than or equal {b}\")\n",
    "else:\n",
    "    print(f\"{a} is not greater than or equal {b}\")\n",
    "    "
   ]
  },
  {
   "cell_type": "markdown",
   "id": "84bb0102-2c94-43e5-8d53-e75a13d00624",
   "metadata": {},
   "source": [
    "Q4: Write a program that check if a number is both greater than 10 and less than 100. if its, it should print \"great\" else print \"Nahh\""
   ]
  },
  {
   "cell_type": "code",
   "execution_count": 18,
   "id": "dd7952df-f0c1-4568-b20f-5f23225bd836",
   "metadata": {},
   "outputs": [
    {
     "name": "stdin",
     "output_type": "stream",
     "text": [
      "Enter first number 334\n",
      "Enter second number 23\n"
     ]
    },
    {
     "name": "stdout",
     "output_type": "stream",
     "text": [
      "great\n"
     ]
    }
   ],
   "source": [
    "num1 = float(input(\"Enter first number\"))\n",
    "num2 = float(input(\"Enter second number\"))\n",
    "\n",
    "if num1 and num2 > 10 and num1 and num2 < 100:\n",
    "    print(\"great\")\n",
    "else:\n",
    "    print(\"Nahh\")"
   ]
  },
  {
   "cell_type": "markdown",
   "id": "76d46175-0b8f-4f7e-a855-200025b368d9",
   "metadata": {},
   "source": [
    "Q5: Write a program that categorize a person by age! child(0-12), teenger (13-19), adult (20-64) or senior (65+)"
   ]
  },
  {
   "cell_type": "code",
   "execution_count": 22,
   "id": "45da92d9-a974-4613-ac3b-a7cc4fc2e964",
   "metadata": {},
   "outputs": [
    {
     "name": "stdin",
     "output_type": "stream",
     "text": [
      "Enter your age: 23\n"
     ]
    },
    {
     "name": "stdout",
     "output_type": "stream",
     "text": [
      "You are an adult\n"
     ]
    }
   ],
   "source": [
    "age = int(input(\"Enter your age:\"))\n",
    "if age <0:\n",
    "    print(\"invalid number\")\n",
    "elif age <13:\n",
    "    print(\"You are a child\")\n",
    "elif age <20:\n",
    "    print(\"You are teenger\")\n",
    "elif age <65:\n",
    "    print(\"You are an adult\")\n",
    "else: \n",
    "    print(\"senior\")"
   ]
  },
  {
   "cell_type": "markdown",
   "id": "5386182d-f8c3-456f-b10a-49ebce10c7c0",
   "metadata": {},
   "source": [
    "Q6: Create a program that determine if a triangle is equilateral (all sides equal), isosceles (two sides equal) or scalene (no sides are equal) based on the side length"
   ]
  },
  {
   "cell_type": "code",
   "execution_count": 33,
   "id": "b0637f8e-c132-495d-8f55-79809649b365",
   "metadata": {},
   "outputs": [
    {
     "name": "stdin",
     "output_type": "stream",
     "text": [
      "Enter the first side 12\n",
      "Enter the second side 21\n",
      "Enter the third side 12\n"
     ]
    },
    {
     "name": "stdout",
     "output_type": "stream",
     "text": [
      "isosceles triangle\n"
     ]
    }
   ],
   "source": [
    "side1 = float(input(\"Enter the first side\"))\n",
    "side2 = float(input(\"Enter the second side\"))\n",
    "side3 = float(input(\"Enter the third side\"))\n",
    "\n",
    "if side1==side2==side3:\n",
    "    print(\"equilateral triangle\")\n",
    "elif side1 ==side2 or side1==side3 or side2==side3:\n",
    "    print(\"isosceles triangle\")\n",
    "else:\n",
    "    print(\"scalene triangle\")"
   ]
  },
  {
   "cell_type": "markdown",
   "id": "f111cb5f-c578-4b35-8416-ded930792732",
   "metadata": {},
   "source": [
    "Q7: create a simple calculator that takes two number adn an operator(+. -. *,/) as input and performs the corresponding operators"
   ]
  },
  {
   "cell_type": "code",
   "execution_count": null,
   "id": "726d4b4a-1406-4952-b5bb-b9ba1e7bcaf7",
   "metadata": {},
   "outputs": [],
   "source": []
  },
  {
   "cell_type": "markdown",
   "id": "00c50fbc-56a0-45ae-b796-cbbf30bc6ee1",
   "metadata": {},
   "source": [
    "## Q8: write a program that checks if two strings entered by the user are exactly equal (case-sensitive)"
   ]
  },
  {
   "cell_type": "code",
   "execution_count": 34,
   "id": "e7acf3f4-2a42-4179-8e12-82fdd9ce24ac",
   "metadata": {},
   "outputs": [
    {
     "name": "stdin",
     "output_type": "stream",
     "text": [
      "Enter your first string hello\n",
      "Enter your second string saei\n"
     ]
    },
    {
     "name": "stdout",
     "output_type": "stream",
     "text": [
      "the strings are not the same\n"
     ]
    }
   ],
   "source": [
    "string1 = input(\"Enter your first string\")\n",
    "string2 = input(\"Enter your second string\")\n",
    "\n",
    "if string1==string2:\n",
    "    print(\"the strings are exactly the same\")\n",
    "else: \n",
    "    print(\"the strings are not the same\")"
   ]
  },
  {
   "cell_type": "markdown",
   "id": "00e91a91-c6c2-459c-99bb-8c65df6ae249",
   "metadata": {},
   "source": [
    "Q9: Write a program that checks if a password meets basic criteria: at least 8 characters long and not equal to \"password\" or \"12346\""
   ]
  },
  {
   "cell_type": "code",
   "execution_count": 44,
   "id": "281a8435-e7f4-425d-b773-9b2e47f0db47",
   "metadata": {},
   "outputs": [
    {
     "name": "stdin",
     "output_type": "stream",
     "text": [
      "Enter password: chemchris23\n"
     ]
    },
    {
     "name": "stdout",
     "output_type": "stream",
     "text": [
      "password valid\n"
     ]
    }
   ],
   "source": [
    "password = input(\"Enter password:\")\n",
    "\n",
    "if len(password)>= 8 and password.lower() != \"password\" and password != \"123456\":\n",
    "    print(\"password valid\")\n",
    "else:\n",
    "    print(\"password is not valid. it must be at least 8 character adn not 'pasword' or '123456':\")"
   ]
  },
  {
   "cell_type": "markdown",
   "id": "4cc41684-f3dc-4acc-be1c-05fcf7ff5dac",
   "metadata": {},
   "source": [
    "Q10: Create a program that categorizes a word as \"short\" (1-4 letters), \"medium\" (5-8 letters), or \"long\"(9+ letters)"
   ]
  },
  {
   "cell_type": "code",
   "execution_count": 48,
   "id": "c09b1bd7-4680-489e-9433-4fdeb1ba0463",
   "metadata": {},
   "outputs": [
    {
     "name": "stdin",
     "output_type": "stream",
     "text": [
      "Enter word qwerrdd\n"
     ]
    },
    {
     "name": "stdout",
     "output_type": "stream",
     "text": [
      "medium\n"
     ]
    }
   ],
   "source": [
    "word = input(\"Enter word\")\n",
    "if len(word) < 5:\n",
    "    print(\"short\")\n",
    "elif len(word) < 9:\n",
    "    print(\"medium\")\n",
    "else:\n",
    "    print(\"long\")"
   ]
  },
  {
   "cell_type": "markdown",
   "id": "d144fb0c-7aba-4a6a-a280-bdd9550ea685",
   "metadata": {},
   "source": [
    "Q11: Write a program that checks if a string contains only digits, only leters or a mix of both"
   ]
  },
  {
   "cell_type": "code",
   "execution_count": 50,
   "id": "2db132bf-e0bf-40ec-b7ea-9d14ca63c025",
   "metadata": {},
   "outputs": [
    {
     "name": "stdin",
     "output_type": "stream",
     "text": [
      "input string 1234\n"
     ]
    },
    {
     "name": "stdout",
     "output_type": "stream",
     "text": [
      "contain only digit\n"
     ]
    }
   ],
   "source": [
    "string = input(\"input string\")\n",
    "if string.isdigit():\n",
    "    print(\"contain only digit\")\n",
    "elif string.isalpha():\n",
    "    print(\"contain only letters\")\n",
    "else:\n",
    "    print(\"contain both digit and leter\")"
   ]
  },
  {
   "cell_type": "markdown",
   "id": "2c7ad4a2-5f79-46b2-a3e7-44e39f960eae",
   "metadata": {},
   "source": [
    "Q12: Create a program that determine if a string is a single word (no space or multiple words)"
   ]
  },
  {
   "cell_type": "code",
   "execution_count": 54,
   "id": "21540d90-5b79-44aa-92c6-0044e473be94",
   "metadata": {},
   "outputs": [
    {
     "name": "stdin",
     "output_type": "stream",
     "text": [
      "Enter word \n"
     ]
    },
    {
     "name": "stdout",
     "output_type": "stream",
     "text": [
      "'' is multiple\n"
     ]
    }
   ],
   "source": [
    "string = input(\"Enter word\")\n",
    "if string.isalpha():\n",
    "    print(f\"'{string}' is a word\")\n",
    "else: \n",
    "    print(f\"'{string}' is multiple\")"
   ]
  },
  {
   "cell_type": "markdown",
   "id": "ff7ab365-3827-4404-89c1-4ca4faa56aa9",
   "metadata": {},
   "source": [
    "Q13: Write a program thea checks if a name starts with a vowel or consonant."
   ]
  },
  {
   "cell_type": "code",
   "execution_count": 53,
   "id": "cc7faeff-7106-4c90-9018-6e1f676dd8df",
   "metadata": {},
   "outputs": [
    {
     "name": "stdin",
     "output_type": "stream",
     "text": [
      "enter name able\n"
     ]
    },
    {
     "name": "stdout",
     "output_type": "stream",
     "text": [
      "'able' start with vowels\n"
     ]
    }
   ],
   "source": [
    "name = input(\"enter name\")\n",
    "first_letter = name[0].lower()\n",
    "if first_letter in ['a', 'e', 'i', 'o', 'u']:\n",
    "    print(f\"'{name}' start with vowels\")\n",
    "else: \n",
    "    print(f\"'{name}' start with a consonant\")"
   ]
  },
  {
   "cell_type": "markdown",
   "id": "12cba9ec-1b4a-4bbe-87b8-9101364b5571",
   "metadata": {},
   "source": [
    "Q14: Write a program that checks if a sentence starts with a capital letter adn ends with proper punctuation (.,!, or ?)"
   ]
  },
  {
   "cell_type": "code",
   "execution_count": null,
   "id": "6e89a0ba-e60c-46d2-9995-d841b0911de7",
   "metadata": {},
   "outputs": [],
   "source": [
    "sentence = input(\"Enter a sentence: \")\n",
    "\n",
    "if sentence[0].isupper() and sentence[-1] in ('.', '!', '?'):\n",
    "    print(\"The sentence is properly written.\")\n",
    "else:\n",
    "    print(\"The sentence must start with a capital letter and end with '.', '!' or '?'.\")"
   ]
  },
  {
   "cell_type": "markdown",
   "id": "b4724d18-7ca1-4ef7-ad16-a7e1275a3e55",
   "metadata": {},
   "source": [
    "Q15: Create a program that determines if a word is a palindrome (reads the same forwards and backwards)."
   ]
  },
  {
   "cell_type": "code",
   "execution_count": null,
   "id": "183017a2-c670-49b0-8a0f-5c0321a440cb",
   "metadata": {},
   "outputs": [],
   "source": [
    "word = input(\"Enter a word: \")\n",
    "\n",
    "word = word.lower()\n",
    "if word == word[::-1]:\n",
    "    print(\"The word is a palindrome.\")\n",
    "else:\n",
    "    print(\"The word is not a palindrome.\")\n"
   ]
  },
  {
   "cell_type": "markdown",
   "id": "d0b239e3-27c8-4f5f-bb91-e6fa518cb8d8",
   "metadata": {},
   "source": [
    "Q16: Write a program that checks if a phone number is the format \"XXX-XXX-XXXX\" where X is a digit"
   ]
  }
 ],
 "metadata": {
  "kernelspec": {
   "display_name": "Python 3 (ipykernel)",
   "language": "python",
   "name": "python3"
  },
  "language_info": {
   "codemirror_mode": {
    "name": "ipython",
    "version": 3
   },
   "file_extension": ".py",
   "mimetype": "text/x-python",
   "name": "python",
   "nbconvert_exporter": "python",
   "pygments_lexer": "ipython3",
   "version": "3.12.7"
  }
 },
 "nbformat": 4,
 "nbformat_minor": 5
}
